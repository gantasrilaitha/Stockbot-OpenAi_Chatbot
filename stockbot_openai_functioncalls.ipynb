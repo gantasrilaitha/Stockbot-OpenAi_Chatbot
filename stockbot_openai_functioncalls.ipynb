{
  "nbformat": 4,
  "nbformat_minor": 0,
  "metadata": {
    "colab": {
      "provenance": []
    },
    "kernelspec": {
      "name": "python3",
      "display_name": "Python 3"
    },
    "language_info": {
      "name": "python"
    }
  },
  "cells": [
    {
      "cell_type": "markdown",
      "source": [
        "Created an OpenAi Assistant. Using OpenAi function calling mechanism and threads without streaming, appropriate function/runner is invoked in response to user's query."
      ],
      "metadata": {
        "id": "DOGdiVl_YfNL"
      }
    },
    {
      "cell_type": "code",
      "source": [
        "!pip install openai"
      ],
      "metadata": {
        "colab": {
          "base_uri": "https://localhost:8080/"
        },
        "id": "b-sp7qpumyHh",
        "outputId": "0ac52623-1b1b-4013-af32-ed0833f0a445"
      },
      "execution_count": null,
      "outputs": [
        {
          "output_type": "stream",
          "name": "stdout",
          "text": [
            "Collecting openai\n",
            "  Downloading openai-1.35.1-py3-none-any.whl (326 kB)\n",
            "\u001b[2K     \u001b[90m━━━━━━━━━━━━━━━━━━━━━━━━━━━━━━━━━━━━━━━━\u001b[0m \u001b[32m326.8/326.8 kB\u001b[0m \u001b[31m3.8 MB/s\u001b[0m eta \u001b[36m0:00:00\u001b[0m\n",
            "\u001b[?25hRequirement already satisfied: anyio<5,>=3.5.0 in /usr/local/lib/python3.10/dist-packages (from openai) (3.7.1)\n",
            "Requirement already satisfied: distro<2,>=1.7.0 in /usr/lib/python3/dist-packages (from openai) (1.7.0)\n",
            "Collecting httpx<1,>=0.23.0 (from openai)\n",
            "  Downloading httpx-0.27.0-py3-none-any.whl (75 kB)\n",
            "\u001b[2K     \u001b[90m━━━━━━━━━━━━━━━━━━━━━━━━━━━━━━━━━━━━━━━━\u001b[0m \u001b[32m75.6/75.6 kB\u001b[0m \u001b[31m2.4 MB/s\u001b[0m eta \u001b[36m0:00:00\u001b[0m\n",
            "\u001b[?25hRequirement already satisfied: pydantic<3,>=1.9.0 in /usr/local/lib/python3.10/dist-packages (from openai) (2.7.3)\n",
            "Requirement already satisfied: sniffio in /usr/local/lib/python3.10/dist-packages (from openai) (1.3.1)\n",
            "Requirement already satisfied: tqdm>4 in /usr/local/lib/python3.10/dist-packages (from openai) (4.66.4)\n",
            "Requirement already satisfied: typing-extensions<5,>=4.7 in /usr/local/lib/python3.10/dist-packages (from openai) (4.12.2)\n",
            "Requirement already satisfied: idna>=2.8 in /usr/local/lib/python3.10/dist-packages (from anyio<5,>=3.5.0->openai) (3.7)\n",
            "Requirement already satisfied: exceptiongroup in /usr/local/lib/python3.10/dist-packages (from anyio<5,>=3.5.0->openai) (1.2.1)\n",
            "Requirement already satisfied: certifi in /usr/local/lib/python3.10/dist-packages (from httpx<1,>=0.23.0->openai) (2024.6.2)\n",
            "Collecting httpcore==1.* (from httpx<1,>=0.23.0->openai)\n",
            "  Downloading httpcore-1.0.5-py3-none-any.whl (77 kB)\n",
            "\u001b[2K     \u001b[90m━━━━━━━━━━━━━━━━━━━━━━━━━━━━━━━━━━━━━━━━\u001b[0m \u001b[32m77.9/77.9 kB\u001b[0m \u001b[31m5.9 MB/s\u001b[0m eta \u001b[36m0:00:00\u001b[0m\n",
            "\u001b[?25hCollecting h11<0.15,>=0.13 (from httpcore==1.*->httpx<1,>=0.23.0->openai)\n",
            "  Downloading h11-0.14.0-py3-none-any.whl (58 kB)\n",
            "\u001b[2K     \u001b[90m━━━━━━━━━━━━━━━━━━━━━━━━━━━━━━━━━━━━━━━━\u001b[0m \u001b[32m58.3/58.3 kB\u001b[0m \u001b[31m4.6 MB/s\u001b[0m eta \u001b[36m0:00:00\u001b[0m\n",
            "\u001b[?25hRequirement already satisfied: annotated-types>=0.4.0 in /usr/local/lib/python3.10/dist-packages (from pydantic<3,>=1.9.0->openai) (0.7.0)\n",
            "Requirement already satisfied: pydantic-core==2.18.4 in /usr/local/lib/python3.10/dist-packages (from pydantic<3,>=1.9.0->openai) (2.18.4)\n",
            "Installing collected packages: h11, httpcore, httpx, openai\n",
            "Successfully installed h11-0.14.0 httpcore-1.0.5 httpx-0.27.0 openai-1.35.1\n"
          ]
        }
      ]
    },
    {
      "cell_type": "markdown",
      "source": [
        "Creating the assistant"
      ],
      "metadata": {
        "id": "eOB-83OXO28A"
      }
    },
    {
      "cell_type": "code",
      "source": [
        "from openai import OpenAI\n",
        "\n",
        "# Initialize the OpenAI client\n",
        "client = OpenAI(api_key=)\n",
        "\n",
        "# Define the assistant with functions for stock data retrieval and getting transcripts\n",
        "assistant = client.beta.assistants.create(\n",
        "    name=\"stock-bot\",\n",
        "    instructions=\"You are a stock bot. Use the provided functions to answer questions.\",\n",
        "    model=\"gpt-3.5-turbo\",\n",
        "    tools=[\n",
        "        {\n",
        "            \"type\": \"function\",\n",
        "            \"function\": {\n",
        "                \"name\": \"get_numerical_table\",\n",
        "                \"description\": \"Get the numerical analysis table for a specific stock and year\",\n",
        "                \"parameters\": {\n",
        "                    \"type\": \"object\",\n",
        "                    \"properties\": {\n",
        "                        \"stock_name\": {\n",
        "                            \"type\": \"string\",\n",
        "                            \"description\": \"The name of the stock, e.g., Apple\"\n",
        "                        },\n",
        "                        \"year\": {\n",
        "                            \"type\": \"integer\",\n",
        "                            \"description\": \"The financial year, e.g., 2023\"\n",
        "                        }\n",
        "                    },\n",
        "                    \"required\": [\"stock_name\", \"year\"]\n",
        "                }\n",
        "            }\n",
        "        },\n",
        "        {\n",
        "            \"type\": \"function\",\n",
        "            \"function\": {\n",
        "                \"name\": \"get_transcripts\",\n",
        "                \"description\": \"Get the transcripts for a specific stock\",\n",
        "                \"parameters\": {\n",
        "                    \"type\": \"object\",\n",
        "                    \"properties\": {\n",
        "                        \"stock_name\": {\n",
        "                            \"type\": \"string\",\n",
        "                            \"description\": \"The name of the stock, e.g., Apple\"\n",
        "                        }\n",
        "                    },\n",
        "                    \"required\": [\"stock_name\"]\n",
        "                }\n",
        "            }\n",
        "        }\n",
        "    ]\n",
        ")\n",
        "\n",
        "print(assistant)\n"
      ],
      "metadata": {
        "id": "Fh5HCCmgfasP",
        "colab": {
          "base_uri": "https://localhost:8080/"
        },
        "outputId": "2fbeeae7-4f8b-4b4c-8043-dd331fdd1069"
      },
      "execution_count": null,
      "outputs": [
        {
          "output_type": "stream",
          "name": "stdout",
          "text": [
            "Assistant(id='asst_I9CxFRhMTrkdblabE9RRhrBI', created_at=1718883571, description=None, instructions='You are a stock bot. Use the provided functions to answer questions.', metadata={}, model='gpt-3.5-turbo', name='stock-bot', object='assistant', tools=[FunctionTool(function=FunctionDefinition(name='get_numerical_table', description='Get the numerical analysis table for a specific stock and year', parameters={'type': 'object', 'properties': {'stock_name': {'type': 'string', 'description': 'The name of the stock, e.g., Apple'}, 'year': {'type': 'integer', 'description': 'The financial year, e.g., 2023'}}, 'required': ['stock_name', 'year']}), type='function'), FunctionTool(function=FunctionDefinition(name='get_transcripts', description='Get the transcripts for a specific stock', parameters={'type': 'object', 'properties': {'stock_name': {'type': 'string', 'description': 'The name of the stock, e.g., Apple'}}, 'required': ['stock_name']}), type='function')], response_format='auto', temperature=1.0, tool_resources=ToolResources(code_interpreter=None, file_search=None), top_p=1.0)\n"
          ]
        }
      ]
    },
    {
      "cell_type": "markdown",
      "source": [
        "Running the threads without Streamimg"
      ],
      "metadata": {
        "id": "9CvuU9EmRHtK"
      }
    },
    {
      "cell_type": "code",
      "source": [
        "#function for creating thread,run and message\n",
        "def create_message_and_run(assistant,query,thread=None):\n",
        "  if not thread:\n",
        "    thread = client.beta.threads.create()\n",
        "\n",
        "  message = client.beta.threads.messages.create(\n",
        "    thread_id=thread.id,\n",
        "    role=\"user\",\n",
        "    content=query\n",
        "  )\n",
        "  run = client.beta.threads.runs.create(\n",
        "  thread_id=thread.id,\n",
        "  assistant_id=assistant.id\n",
        "  )\n",
        "  print(thread)\n",
        "  print(message)\n",
        "  print(run)\n",
        "  return run,thread\n"
      ],
      "metadata": {
        "id": "FpqvVWcMrdHo"
      },
      "execution_count": null,
      "outputs": []
    },
    {
      "cell_type": "code",
      "source": [
        "#submit the response of the called function to assistant\n",
        "def submit_tool_outputs(run,thread,function_id,function_response):\n",
        "    run = client.beta.threads.runs.submit_tool_outputs(\n",
        "    thread_id=thread.id,\n",
        "    run_id=run.id,\n",
        "    tool_outputs=[\n",
        "      {\n",
        "        \"tool_call_id\": function_id,\n",
        "        \"output\": str(function_response),\n",
        "      }\n",
        "    ]\n",
        "\n",
        "    )\n",
        "    print(run)\n",
        "\n",
        "    return run\n",
        "\n",
        "#provide user_query\n",
        "query = \"give me financial analysis for apple for 2021 \"\n",
        "run,thread = create_message_and_run(assistant=assistant,query=query)"
      ],
      "metadata": {
        "id": "XzbBUKgRz-zZ",
        "colab": {
          "base_uri": "https://localhost:8080/"
        },
        "outputId": "2959e98a-cf65-4565-95d3-041ca5ada6d7"
      },
      "execution_count": null,
      "outputs": [
        {
          "output_type": "stream",
          "name": "stdout",
          "text": [
            "Thread(id='thread_ALfVqAgLhCGcXpRczm3OHbP9', created_at=1718883669, metadata={}, object='thread', tool_resources=ToolResources(code_interpreter=None, file_search=None))\n",
            "Message(id='msg_Ave5y2nvK9JBICFbu468ywMn', assistant_id=None, attachments=[], completed_at=None, content=[TextContentBlock(text=Text(annotations=[], value='give me financial analysis for apple for 2021 '), type='text')], created_at=1718883669, incomplete_at=None, incomplete_details=None, metadata={}, object='thread.message', role='user', run_id=None, status=None, thread_id='thread_ALfVqAgLhCGcXpRczm3OHbP9')\n",
            "Run(id='run_gFcMmEUwbnFeOrr6oTRBVutt', assistant_id='asst_I9CxFRhMTrkdblabE9RRhrBI', cancelled_at=None, completed_at=None, created_at=1718883669, expires_at=1718884269, failed_at=None, incomplete_details=None, instructions='You are a stock bot. Use the provided functions to answer questions.', last_error=None, max_completion_tokens=None, max_prompt_tokens=None, metadata={}, model='gpt-3.5-turbo', object='thread.run', parallel_tool_calls=True, required_action=None, response_format='auto', started_at=None, status='queued', thread_id='thread_ALfVqAgLhCGcXpRczm3OHbP9', tool_choice='auto', tools=[FunctionTool(function=FunctionDefinition(name='get_numerical_table', description='Get the numerical analysis table for a specific stock and year', parameters={'type': 'object', 'properties': {'stock_name': {'type': 'string', 'description': 'The name of the stock, e.g., Apple'}, 'year': {'type': 'integer', 'description': 'The financial year, e.g., 2023'}}, 'required': ['stock_name', 'year']}), type='function'), FunctionTool(function=FunctionDefinition(name='get_transcripts', description='Get the transcripts for a specific stock', parameters={'type': 'object', 'properties': {'stock_name': {'type': 'string', 'description': 'The name of the stock, e.g., Apple'}}, 'required': ['stock_name']}), type='function')], truncation_strategy=TruncationStrategy(type='auto', last_messages=None), usage=None, temperature=1.0, top_p=1.0, tool_resources={})\n"
          ]
        }
      ]
    },
    {
      "cell_type": "code",
      "source": [
        "run"
      ],
      "metadata": {
        "colab": {
          "base_uri": "https://localhost:8080/"
        },
        "id": "BbYrmagNK5jy",
        "outputId": "a95121ad-f979-4025-8ccd-89c2d7f7108e"
      },
      "execution_count": null,
      "outputs": [
        {
          "output_type": "execute_result",
          "data": {
            "text/plain": [
              "Run(id='run_gFcMmEUwbnFeOrr6oTRBVutt', assistant_id='asst_I9CxFRhMTrkdblabE9RRhrBI', cancelled_at=None, completed_at=None, created_at=1718883669, expires_at=1718884269, failed_at=None, incomplete_details=None, instructions='You are a stock bot. Use the provided functions to answer questions.', last_error=None, max_completion_tokens=None, max_prompt_tokens=None, metadata={}, model='gpt-3.5-turbo', object='thread.run', parallel_tool_calls=True, required_action=None, response_format='auto', started_at=None, status='queued', thread_id='thread_ALfVqAgLhCGcXpRczm3OHbP9', tool_choice='auto', tools=[FunctionTool(function=FunctionDefinition(name='get_numerical_table', description='Get the numerical analysis table for a specific stock and year', parameters={'type': 'object', 'properties': {'stock_name': {'type': 'string', 'description': 'The name of the stock, e.g., Apple'}, 'year': {'type': 'integer', 'description': 'The financial year, e.g., 2023'}}, 'required': ['stock_name', 'year']}), type='function'), FunctionTool(function=FunctionDefinition(name='get_transcripts', description='Get the transcripts for a specific stock', parameters={'type': 'object', 'properties': {'stock_name': {'type': 'string', 'description': 'The name of the stock, e.g., Apple'}}, 'required': ['stock_name']}), type='function')], truncation_strategy=TruncationStrategy(type='auto', last_messages=None), usage=None, temperature=1.0, top_p=1.0, tool_resources={})"
            ]
          },
          "metadata": {},
          "execution_count": 11
        }
      ]
    },
    {
      "cell_type": "code",
      "source": [
        "thread"
      ],
      "metadata": {
        "colab": {
          "base_uri": "https://localhost:8080/"
        },
        "id": "gqtNKeaHNBQr",
        "outputId": "fdbb32df-c6e9-4f78-f209-989fdd4c0c37"
      },
      "execution_count": null,
      "outputs": [
        {
          "output_type": "execute_result",
          "data": {
            "text/plain": [
              "Thread(id='thread_ALfVqAgLhCGcXpRczm3OHbP9', created_at=1718883669, metadata={}, object='thread', tool_resources=ToolResources(code_interpreter=None, file_search=None))"
            ]
          },
          "metadata": {},
          "execution_count": 12
        }
      ]
    },
    {
      "cell_type": "code",
      "source": [
        "run.status"
      ],
      "metadata": {
        "colab": {
          "base_uri": "https://localhost:8080/",
          "height": 35
        },
        "id": "nyNBHVTqNGcf",
        "outputId": "84443d2c-e044-408a-c383-a87f57ed008b"
      },
      "execution_count": null,
      "outputs": [
        {
          "output_type": "execute_result",
          "data": {
            "text/plain": [
              "'queued'"
            ],
            "application/vnd.google.colaboratory.intrinsic+json": {
              "type": "string"
            }
          },
          "metadata": {},
          "execution_count": 13
        }
      ]
    },
    {
      "cell_type": "markdown",
      "source": [
        "get details of the appropriate function called"
      ],
      "metadata": {
        "id": "6vM-RvbtdCwb"
      }
    },
    {
      "cell_type": "code",
      "source": [
        "\n",
        "def get_function_details(run):\n",
        "\n",
        "  print(\"\\nrun.required_action\\n\",run.required_action)#\n",
        "\n",
        "  function_name = run.required_action.submit_tool_outputs.tool_calls[0].function.name\n",
        "  arguments = run.required_action.submit_tool_outputs.tool_calls[0].function.arguments\n",
        "  function_id = run.required_action.submit_tool_outputs.tool_calls[0].id\n",
        "\n",
        "  print(f\"function_name: {function_name} and arguments: {arguments}\")\n",
        "\n",
        "  return function_name, arguments, function_id"
      ],
      "metadata": {
        "id": "ctxxYGnyc-R5"
      },
      "execution_count": null,
      "outputs": []
    },
    {
      "cell_type": "code",
      "source": [
        "#function definitions of the functions mentioned in tools\n",
        "def get_numerical_table(stock_name,year):\n",
        "  #mongo query\n",
        "  return 51\n",
        "def get_transcripts(stock_name):\n",
        "  print(stock_name)\n",
        "  pass"
      ],
      "metadata": {
        "id": "LkJAqbRK5amM"
      },
      "execution_count": null,
      "outputs": []
    },
    {
      "cell_type": "markdown",
      "source": [
        "invoke the appropriate function based on user_query"
      ],
      "metadata": {
        "id": "GLDlRg8tbqgJ"
      }
    },
    {
      "cell_type": "code",
      "source": [
        "\n",
        "import json\n",
        "def execute_function_call(function_name,arguments):\n",
        "    available_functions={\"get_numerical_table\":get_numerical_table, \"get_transcripts\":get_transcripts}\n",
        "    function = available_functions.get(function_name,None)\n",
        "    if function:\n",
        "        arguments = json.loads(arguments)\n",
        "        results = function(**arguments)\n",
        "        print(arguments)\n",
        "    else:\n",
        "        results = f\"Error: function {function_name} does not exist\"\n",
        "    return results"
      ],
      "metadata": {
        "id": "DyXq__LlLeZp"
      },
      "execution_count": null,
      "outputs": []
    },
    {
      "cell_type": "markdown",
      "source": [
        "Running the thread & submitting the responses back to assistant"
      ],
      "metadata": {
        "id": "-Nm772aHdIlj"
      }
    },
    {
      "cell_type": "code",
      "source": [
        "#running the thread & assistant.\n",
        "import time\n",
        "while True:\n",
        "\n",
        "    run = client.beta.threads.runs.retrieve(thread_id=thread.id, run_id=run.id)\n",
        "    print(run)\n",
        "    print(\"run status\", run.status)\n",
        "\n",
        "    if run.status==\"requires_action\":\n",
        "\n",
        "        function_name, arguments, function_id  = get_function_details(run)\n",
        "\n",
        "        function_response = execute_function_call(function_name,arguments)\n",
        "        print(function_response)\n",
        "        run = submit_tool_outputs(run,thread,function_id,function_response) # submitting the response back to assistant\n",
        "        print(run)\n",
        "        #continue\n",
        "    if run.status==\"completed\":\n",
        "\n",
        "        messages = client.beta.threads.messages.list(thread_id=thread.id)\n",
        "        print(messages) # print the messages exchanged in the thread\n",
        "        latest_message = messages.data[0]\n",
        "        text = latest_message.content[0].text.value\n",
        "        #print(text)\n",
        "        break\n",
        "\n",
        "        # user_input = input()\n",
        "        # if user_input == \"STOP\":\n",
        "        #   break\n",
        "\n",
        "        # run,thread = create_message_and_run(assistant=assistant,query=user_input,thread=thread)\n",
        "\n",
        "        # continue;\n",
        "    time.sleep(5)#needed for async calls\n"
      ],
      "metadata": {
        "colab": {
          "base_uri": "https://localhost:8080/"
        },
        "id": "XHlaBK8xK6xU",
        "outputId": "2cc8c6b9-d5d8-4107-fc9b-8dc9d99127cc"
      },
      "execution_count": null,
      "outputs": [
        {
          "output_type": "stream",
          "name": "stdout",
          "text": [
            "Run(id='run_gFcMmEUwbnFeOrr6oTRBVutt', assistant_id='asst_I9CxFRhMTrkdblabE9RRhrBI', cancelled_at=None, completed_at=None, created_at=1718883669, expires_at=1718884269, failed_at=None, incomplete_details=None, instructions='You are a stock bot. Use the provided functions to answer questions.', last_error=None, max_completion_tokens=None, max_prompt_tokens=None, metadata={}, model='gpt-3.5-turbo', object='thread.run', parallel_tool_calls=True, required_action=RequiredAction(submit_tool_outputs=RequiredActionSubmitToolOutputs(tool_calls=[RequiredActionFunctionToolCall(id='call_L7D8ExLjrs20WfmaZm2rbh68', function=Function(arguments='{\"stock_name\":\"Apple\",\"year\":2021}', name='get_numerical_table'), type='function')]), type='submit_tool_outputs'), response_format='auto', started_at=1718883670, status='requires_action', thread_id='thread_ALfVqAgLhCGcXpRczm3OHbP9', tool_choice='auto', tools=[FunctionTool(function=FunctionDefinition(name='get_numerical_table', description='Get the numerical analysis table for a specific stock and year', parameters={'type': 'object', 'properties': {'stock_name': {'type': 'string', 'description': 'The name of the stock, e.g., Apple'}, 'year': {'type': 'integer', 'description': 'The financial year, e.g., 2023'}}, 'required': ['stock_name', 'year']}), type='function'), FunctionTool(function=FunctionDefinition(name='get_transcripts', description='Get the transcripts for a specific stock', parameters={'type': 'object', 'properties': {'stock_name': {'type': 'string', 'description': 'The name of the stock, e.g., Apple'}}, 'required': ['stock_name']}), type='function')], truncation_strategy=TruncationStrategy(type='auto', last_messages=None), usage=None, temperature=1.0, top_p=1.0, tool_resources={})\n",
            "run status requires_action\n",
            "\n",
            "run.required_action\n",
            " RequiredAction(submit_tool_outputs=RequiredActionSubmitToolOutputs(tool_calls=[RequiredActionFunctionToolCall(id='call_L7D8ExLjrs20WfmaZm2rbh68', function=Function(arguments='{\"stock_name\":\"Apple\",\"year\":2021}', name='get_numerical_table'), type='function')]), type='submit_tool_outputs')\n",
            "function_name: get_numerical_table and arguments: {\"stock_name\":\"Apple\",\"year\":2021}\n",
            "{'stock_name': 'Apple', 'year': 2021}\n",
            "51\n",
            "Run(id='run_gFcMmEUwbnFeOrr6oTRBVutt', assistant_id='asst_I9CxFRhMTrkdblabE9RRhrBI', cancelled_at=None, completed_at=None, created_at=1718883669, expires_at=1718884269, failed_at=None, incomplete_details=None, instructions='You are a stock bot. Use the provided functions to answer questions.', last_error=None, max_completion_tokens=None, max_prompt_tokens=None, metadata={}, model='gpt-3.5-turbo', object='thread.run', parallel_tool_calls=True, required_action=None, response_format='auto', started_at=1718883670, status='queued', thread_id='thread_ALfVqAgLhCGcXpRczm3OHbP9', tool_choice='auto', tools=[FunctionTool(function=FunctionDefinition(name='get_numerical_table', description='Get the numerical analysis table for a specific stock and year', parameters={'type': 'object', 'properties': {'stock_name': {'type': 'string', 'description': 'The name of the stock, e.g., Apple'}, 'year': {'type': 'integer', 'description': 'The financial year, e.g., 2023'}}, 'required': ['stock_name', 'year']}), type='function'), FunctionTool(function=FunctionDefinition(name='get_transcripts', description='Get the transcripts for a specific stock', parameters={'type': 'object', 'properties': {'stock_name': {'type': 'string', 'description': 'The name of the stock, e.g., Apple'}}, 'required': ['stock_name']}), type='function')], truncation_strategy=TruncationStrategy(type='auto', last_messages=None), usage=None, temperature=1.0, top_p=1.0, tool_resources={})\n",
            "Run(id='run_gFcMmEUwbnFeOrr6oTRBVutt', assistant_id='asst_I9CxFRhMTrkdblabE9RRhrBI', cancelled_at=None, completed_at=None, created_at=1718883669, expires_at=1718884269, failed_at=None, incomplete_details=None, instructions='You are a stock bot. Use the provided functions to answer questions.', last_error=None, max_completion_tokens=None, max_prompt_tokens=None, metadata={}, model='gpt-3.5-turbo', object='thread.run', parallel_tool_calls=True, required_action=None, response_format='auto', started_at=1718883670, status='queued', thread_id='thread_ALfVqAgLhCGcXpRczm3OHbP9', tool_choice='auto', tools=[FunctionTool(function=FunctionDefinition(name='get_numerical_table', description='Get the numerical analysis table for a specific stock and year', parameters={'type': 'object', 'properties': {'stock_name': {'type': 'string', 'description': 'The name of the stock, e.g., Apple'}, 'year': {'type': 'integer', 'description': 'The financial year, e.g., 2023'}}, 'required': ['stock_name', 'year']}), type='function'), FunctionTool(function=FunctionDefinition(name='get_transcripts', description='Get the transcripts for a specific stock', parameters={'type': 'object', 'properties': {'stock_name': {'type': 'string', 'description': 'The name of the stock, e.g., Apple'}}, 'required': ['stock_name']}), type='function')], truncation_strategy=TruncationStrategy(type='auto', last_messages=None), usage=None, temperature=1.0, top_p=1.0, tool_resources={})\n",
            "Run(id='run_gFcMmEUwbnFeOrr6oTRBVutt', assistant_id='asst_I9CxFRhMTrkdblabE9RRhrBI', cancelled_at=None, completed_at=1718883787, created_at=1718883669, expires_at=None, failed_at=None, incomplete_details=None, instructions='You are a stock bot. Use the provided functions to answer questions.', last_error=None, max_completion_tokens=None, max_prompt_tokens=None, metadata={}, model='gpt-3.5-turbo', object='thread.run', parallel_tool_calls=True, required_action=None, response_format='auto', started_at=1718883786, status='completed', thread_id='thread_ALfVqAgLhCGcXpRczm3OHbP9', tool_choice='auto', tools=[FunctionTool(function=FunctionDefinition(name='get_numerical_table', description='Get the numerical analysis table for a specific stock and year', parameters={'type': 'object', 'properties': {'stock_name': {'type': 'string', 'description': 'The name of the stock, e.g., Apple'}, 'year': {'type': 'integer', 'description': 'The financial year, e.g., 2023'}}, 'required': ['stock_name', 'year']}), type='function'), FunctionTool(function=FunctionDefinition(name='get_transcripts', description='Get the transcripts for a specific stock', parameters={'type': 'object', 'properties': {'stock_name': {'type': 'string', 'description': 'The name of the stock, e.g., Apple'}}, 'required': ['stock_name']}), type='function')], truncation_strategy=TruncationStrategy(type='auto', last_messages=None), usage=Usage(completion_tokens=67, prompt_tokens=722, total_tokens=789), temperature=1.0, top_p=1.0, tool_resources={})\n",
            "run status completed\n",
            "SyncCursorPage[Message](data=[Message(id='msg_sZm2zPINUVhnbeOoZTmmfbfe', assistant_id='asst_I9CxFRhMTrkdblabE9RRhrBI', attachments=[], completed_at=None, content=[TextContentBlock(text=Text(annotations=[], value='I have retrieved the financial analysis for Apple for the year 2021. The numerical analysis table contains 51 data points. If you would like a more detailed breakdown or specific information, please let me know!'), type='text')], created_at=1718883786, incomplete_at=None, incomplete_details=None, metadata={}, object='thread.message', role='assistant', run_id='run_gFcMmEUwbnFeOrr6oTRBVutt', status=None, thread_id='thread_ALfVqAgLhCGcXpRczm3OHbP9'), Message(id='msg_Ave5y2nvK9JBICFbu468ywMn', assistant_id=None, attachments=[], completed_at=None, content=[TextContentBlock(text=Text(annotations=[], value='give me financial analysis for apple for 2021 '), type='text')], created_at=1718883669, incomplete_at=None, incomplete_details=None, metadata={}, object='thread.message', role='user', run_id=None, status=None, thread_id='thread_ALfVqAgLhCGcXpRczm3OHbP9')], object='list', first_id='msg_sZm2zPINUVhnbeOoZTmmfbfe', last_id='msg_Ave5y2nvK9JBICFbu468ywMn', has_more=False)\n",
            "I have retrieved the financial analysis for Apple for the year 2021. The numerical analysis table contains 51 data points. If you would like a more detailed breakdown or specific information, please let me know!\n"
          ]
        }
      ]
    },
    {
      "cell_type": "code",
      "source": [],
      "metadata": {
        "id": "VNQWc6smKSA6"
      },
      "execution_count": null,
      "outputs": []
    }
  ]
}